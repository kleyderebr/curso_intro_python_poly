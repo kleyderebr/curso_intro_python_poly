{
 "cells": [
  {
   "cell_type": "markdown",
   "metadata": {},
   "source": [
    "## Ejercicios 1."
   ]
  },
  {
   "cell_type": "markdown",
   "metadata": {},
   "source": [
    "1- Escribir un código que imprima el siguiente patrón usando un loop:\n",
    "\n",
    "1 \\\n",
    "1 2 \\\n",
    "1 2 3 \\\n",
    "1 2 3 4 \\\n",
    "1 2 3 4 5 "
   ]
  },
  {
   "cell_type": "markdown",
   "metadata": {},
   "source": [
    "2- Escribir un código que acepte un número dado por el usuario y calcular la suma de todos los números de 1 hasta el número dado."
   ]
  },
  {
   "cell_type": "markdown",
   "metadata": {},
   "source": [
    "3- Invertir  números enteros: ejp: de 12345 a 54321"
   ]
  },
  {
   "cell_type": "markdown",
   "metadata": {},
   "source": [
    "4- Escribir un código que genere el siguiente patrón:\n",
    "\n",
    "\\* \\\n",
    "\\* \\* \\\n",
    "\\* \\* \\* \\\n",
    "\\* \\* \\* \\* \\\n",
    "\\* \\* \\* \\* \\* \\\n",
    "\\* \\* \\* \\* \\\n",
    "\\* \\* \\* \\\n",
    "\\* \\* \\\n",
    "\\* \n"
   ]
  },
  {
   "cell_type": "markdown",
   "metadata": {},
   "source": [
    "5- Imprimir elementos de una lista que presenten indices impares:\n",
    "[1,2,3,4,5,6] => [2,4,6]"
   ]
  },
  {
   "cell_type": "markdown",
   "metadata": {},
   "source": [
    "6- Escribir un código para obtener la serie de Fibonacci entre 0 y 50.\n",
    "\n",
    "1, 1, 2, 3, 5, 8, 13, 21, 34, ..."
   ]
  },
  {
   "cell_type": "markdown",
   "metadata": {},
   "source": [
    "7- Escribir un código que itera los enteros del 1 al 50. Para múltiplos de 3 imprimir \"Fizz\" en vez del número y para múltiplos de 5 imprimir \"Buzz\". Y para números que son múltiplos de de 3 y 5 imprimir \"FizzBuzz\"."
   ]
  },
  {
   "cell_type": "markdown",
   "metadata": {},
   "source": [
    "8- Verificar si una letra dada por el usuario es una vocal o una consonante. Imprimir error si el usuario no escribe una letra."
   ]
  },
  {
   "cell_type": "markdown",
   "metadata": {},
   "source": [
    "9- Calcular el número de digitos y letras en una cadena"
   ]
  },
  {
   "cell_type": "markdown",
   "metadata": {},
   "source": [
    "10- Calcular la suma de números que ingresa el usuario hasta que una letra es escontrada"
   ]
  }
 ],
 "metadata": {
  "kernelspec": {
   "display_name": "Python 3",
   "language": "python",
   "name": "python3"
  },
  "language_info": {
   "codemirror_mode": {
    "name": "ipython",
    "version": 3
   },
   "file_extension": ".py",
   "mimetype": "text/x-python",
   "name": "python",
   "nbconvert_exporter": "python",
   "pygments_lexer": "ipython3",
   "version": "3.12.6"
  }
 },
 "nbformat": 4,
 "nbformat_minor": 2
}
