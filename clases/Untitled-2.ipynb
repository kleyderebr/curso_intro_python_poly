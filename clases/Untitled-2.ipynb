{
 "cells": [
  {
   "cell_type": "code",
   "execution_count": 1,
   "metadata": {},
   "outputs": [
    {
     "name": "stdout",
     "output_type": "stream",
     "text": [
      "1 \n",
      "1 2 \n",
      "1 2 3 \n",
      "1 2 3 4 \n",
      "1 2 3 4 5 \n"
     ]
    }
   ],
   "source": [
    "#EJERCIO 1 hecho\n",
    "for i in range(1,6):\n",
    "    for j in range (1,i+1 ):\n",
    "        print(j, end=' ')\n",
    "    print(\"\")"
   ]
  },
  {
   "cell_type": "code",
   "execution_count": 116,
   "metadata": {},
   "outputs": [
    {
     "name": "stdout",
     "output_type": "stream",
     "text": [
      "ingrese el valor\n",
      "1\n",
      "2\n",
      "3\n",
      "4\n",
      "5\n",
      "6\n",
      "7\n",
      "8\n",
      "9\n"
     ]
    },
    {
     "data": {
      "text/plain": [
       "18"
      ]
     },
     "execution_count": 116,
     "metadata": {},
     "output_type": "execute_result"
    }
   ],
   "source": [
    "#EJERCICIO 2 hecho\n",
    "print(\"ingrese el valor\")\n",
    "a = int(input())\n",
    "for i in range(1, a+1):\n",
    "    print(i)\n",
    "a+i\n",
    "    "
   ]
  },
  {
   "cell_type": "code",
   "execution_count": 178,
   "metadata": {},
   "outputs": [
    {
     "name": "stdout",
     "output_type": "stream",
     "text": [
      "1 2 3 4 5 5 4 3 2 "
     ]
    }
   ],
   "source": [
    "#EJERCICIO 3 hecho\n",
    "for i in range(1,6):\n",
    "    print(i, end=\" \")\n",
    "for n in range (5,1, -1):\n",
    "    print(n, end=\" \")"
   ]
  },
  {
   "cell_type": "code",
   "execution_count": 77,
   "metadata": {},
   "outputs": [
    {
     "name": "stdout",
     "output_type": "stream",
     "text": [
      "*\n",
      "* *\n",
      "* * *\n",
      "* * * *\n",
      "* * * * *\n",
      "* * * *\n",
      "* * *\n",
      "* *\n",
      "*\n"
     ]
    }
   ],
   "source": [
    "#EJERCICIO 4 hecho\n",
    "x=str(\"*\")\n",
    "print(x)\n",
    "print(x+\" \"+x)\n",
    "print(x+\" \"+x+\" \"+x)\n",
    "print(x+\" \"+x+\" \"+x+\" \"+x)\n",
    "print(x+\" \"+x+\" \"+x+\" \"+x+\" \"+x)\n",
    "print(x+\" \"+x+\" \"+x+\" \"+x)\n",
    "print(x+\" \"+x+\" \"+x)\n",
    "print(x+\" \"+x)\n",
    "print(x)"
   ]
  },
  {
   "cell_type": "code",
   "execution_count": 88,
   "metadata": {},
   "outputs": [
    {
     "ename": "TypeError",
     "evalue": "can only concatenate str (not \"int\") to str",
     "output_type": "error",
     "traceback": [
      "\u001b[1;31m---------------------------------------------------------------------------\u001b[0m",
      "\u001b[1;31mTypeError\u001b[0m                                 Traceback (most recent call last)",
      "Cell \u001b[1;32mIn[88], line 5\u001b[0m\n\u001b[0;32m      3\u001b[0m i \u001b[38;5;241m=\u001b[39m \u001b[38;5;241m0\u001b[39m\n\u001b[0;32m      4\u001b[0m \u001b[38;5;28;01mwhile\u001b[39;00m i \u001b[38;5;241m<\u001b[39m \u001b[38;5;28mlen\u001b[39m(RESUMENES):\n\u001b[1;32m----> 5\u001b[0m     \u001b[38;5;28mprint\u001b[39m(\u001b[43mRESUMENES\u001b[49m\u001b[38;5;241;43m+\u001b[39;49m\u001b[43mi\u001b[49m)\n",
      "\u001b[1;31mTypeError\u001b[0m: can only concatenate str (not \"int\") to str"
     ]
    }
   ],
   "source": [
    "#EJERCICIO 4\n",
    "RESUMENES=\"*********\"\n",
    "i = 0\n",
    "while i < len(RESUMENES):\n",
    "    print(RESUMENES)"
   ]
  },
  {
   "cell_type": "code",
   "execution_count": 82,
   "metadata": {},
   "outputs": [
    {
     "name": "stdout",
     "output_type": "stream",
     "text": [
      "1\n",
      "3\n",
      "5\n"
     ]
    }
   ],
   "source": [
    "#EJERCICIOS 5 hecho\n",
    "numeros = (1,2,3,4,5,6)\n",
    "for i in numeros:\n",
    "    if i % 2 == 1:\n",
    "        print(i)"
   ]
  },
  {
   "cell_type": "code",
   "execution_count": 146,
   "metadata": {},
   "outputs": [
    {
     "name": "stdout",
     "output_type": "stream",
     "text": [
      "1\n",
      "3\n",
      "5\n"
     ]
    }
   ],
   "source": [
    "#EJERCICIOS 5 hecho\n",
    "numeros = (1,2,3,4,5,6)\n",
    "for numeros in range (1,7, 2):\n",
    "    print(numeros)"
   ]
  },
  {
   "cell_type": "code",
   "execution_count": 172,
   "metadata": {},
   "outputs": [
    {
     "name": "stdout",
     "output_type": "stream",
     "text": [
      "0 1 1 2 3 5 8 13 21 34 "
     ]
    }
   ],
   "source": [
    "#EJERCICIO #6 hecho\n",
    "z=0\n",
    "t=1\n",
    "while t <= 50:\n",
    "    print(z, t, end=\" \")\n",
    "    z=z+t\n",
    "    t=z+t"
   ]
  },
  {
   "cell_type": "code",
   "execution_count": 200,
   "metadata": {},
   "outputs": [
    {
     "name": "stdout",
     "output_type": "stream",
     "text": [
      "1\n",
      "2\n",
      "3\n",
      "4\n",
      "5\n",
      "6\n",
      "7\n",
      "8\n",
      "9\n",
      "10\n",
      "11\n",
      "12\n",
      "13\n",
      "14\n",
      "15\n",
      "16\n",
      "17\n",
      "18\n",
      "19\n",
      "20\n",
      "21\n",
      "22\n",
      "23\n",
      "24\n",
      "25\n",
      "26\n",
      "27\n",
      "28\n",
      "29\n",
      "30\n",
      "31\n",
      "32\n",
      "33\n",
      "34\n",
      "35\n",
      "36\n",
      "37\n",
      "38\n",
      "39\n",
      "40\n",
      "41\n",
      "42\n",
      "43\n",
      "44\n",
      "45\n",
      "46\n",
      "47\n",
      "48\n",
      "49\n",
      "50\n"
     ]
    }
   ],
   "source": [
    "#EJERCICIO 7\n",
    "numero= int(input(\"calcula multiplo\"))\n",
    "for i in range(1,51):\n",
    "    if i ** 3 == 0:\n",
    "        print(\"Fizz\")\n",
    "    elif i ** 5 == 0:\n",
    "        print(\"Buzz\")\n",
    "    elif i ** 3 == 0 and i ** 5 == 0:\n",
    "        print(\"fizzbuzz\")\n",
    "    else:\n",
    "        print(i)"
   ]
  },
  {
   "cell_type": "code",
   "execution_count": 180,
   "metadata": {},
   "outputs": [
    {
     "name": "stdout",
     "output_type": "stream",
     "text": [
      "es consonante\n"
     ]
    }
   ],
   "source": [
    "#EJERCICIO 8 hecho\n",
    "c = input(\"ingresa una letra\")\n",
    "vocal=[\"a\",\"e\",\"i\",\"o\",\"u\",\"A\",\"E\",\"I\",\"O\",\"U\"]\n",
    "if c in vocal:\n",
    "    print(\"es una vocal\")\n",
    "else:\n",
    "    print(\"es consonante\")"
   ]
  },
  {
   "cell_type": "code",
   "execution_count": 101,
   "metadata": {},
   "outputs": [
    {
     "name": "stdout",
     "output_type": "stream",
     "text": [
      "logintud de cadena 9\n"
     ]
    }
   ],
   "source": [
    "#EJERCICIO 9 indexación\n",
    "cadena=\"ejercicio\"\n",
    "print(\"logintud de cadena\", len(cadena))"
   ]
  },
  {
   "cell_type": "code",
   "execution_count": null,
   "metadata": {},
   "outputs": [],
   "source": [
    "#EJERCICIO 9\n",
    "cadena=\"ejercicio\""
   ]
  },
  {
   "cell_type": "code",
   "execution_count": null,
   "metadata": {},
   "outputs": [],
   "source": [
    "#EJERCICIO 10"
   ]
  }
 ],
 "metadata": {
  "kernelspec": {
   "display_name": "Python 3",
   "language": "python",
   "name": "python3"
  },
  "language_info": {
   "codemirror_mode": {
    "name": "ipython",
    "version": 3
   },
   "file_extension": ".py",
   "mimetype": "text/x-python",
   "name": "python",
   "nbconvert_exporter": "python",
   "pygments_lexer": "ipython3",
   "version": "3.12.6"
  }
 },
 "nbformat": 4,
 "nbformat_minor": 2
}
